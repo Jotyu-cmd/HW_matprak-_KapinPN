{
 "cells": [
  {
   "cell_type": "code",
   "execution_count": 1,
   "id": "17313d59-12b4-4381-b64e-cd89d5a9ee35",
   "metadata": {},
   "outputs": [],
   "source": [
    "class Test:\n",
    "    @staticmethod\n",
    "    def assert_equals(a, b, *args, **kwargs):\n",
    "        assert a == b\n",
    "        print('Passed')\n"
   ]
  },
  {
   "cell_type": "code",
   "execution_count": null,
   "id": "57a13dc2-b5ad-4a4c-88b7-1e23df63b000",
   "metadata": {},
   "outputs": [],
   "source": [
    "https://edabit.com/challenge/3DAkZHv2LZjgqWbvW"
   ]
  },
  {
   "cell_type": "code",
   "execution_count": 2,
   "id": "da54d01d-e0b1-442b-8775-b3c0b5d15354",
   "metadata": {},
   "outputs": [],
   "source": [
    "def is_adjacent(matrix, node1, node2):\n",
    "\tif(matrix[node1][node2]==1):\n",
    "\t\treturn True\n",
    "\telse:\n",
    "\t\treturn False"
   ]
  },
  {
   "cell_type": "code",
   "execution_count": 3,
   "id": "ad241b80-908a-473d-9651-11bac4c425dd",
   "metadata": {},
   "outputs": [
    {
     "name": "stdout",
     "output_type": "stream",
     "text": [
      "Passed\n",
      "Passed\n",
      "Passed\n",
      "Passed\n",
      "Passed\n",
      "Passed\n"
     ]
    }
   ],
   "source": [
    "matrix = [[0,1,0,0],[1,0,1,1],[0,1,0,1],[0,1,1,0]]\n",
    "Test.assert_equals(is_adjacent(matrix, 0, 1), True)\n",
    "Test.assert_equals(is_adjacent(matrix, 0, 2), False)\n",
    "Test.assert_equals(is_adjacent(matrix, 2, 1), True)\n",
    "\n",
    "matrix = [[0,1,0,1,1], [1,0,1,0,0],[0,1,0,1,0],[1,0,1,0,1],[1,0,0,1,0]]\n",
    "Test.assert_equals(is_adjacent(matrix, 0, 3), True)\n",
    "Test.assert_equals(is_adjacent(matrix, 1, 4), False)\n",
    "Test.assert_equals(is_adjacent(matrix, 3, 2), True)"
   ]
  },
  {
   "cell_type": "code",
   "execution_count": null,
   "id": "59065dad-a43b-4687-9947-9c8e7351d009",
   "metadata": {},
   "outputs": [],
   "source": [
    "https://edabit.com/challenge/3A3mHS5B3NNZddQL2"
   ]
  },
  {
   "cell_type": "code",
   "execution_count": 4,
   "id": "417b71ae-4c36-4ba3-9115-9723a1438d44",
   "metadata": {},
   "outputs": [],
   "source": [
    "def interview(lst, tot):\n",
    "\tif(tot<=120):\n",
    "\t\tif(len(lst)!=8):\n",
    "\t\t\treturn \"disqualified\"\t\n",
    "\t\tif(lst[0] > 5 or lst[1] > 5):\n",
    "\t\t\treturn \"disqualified\"\t\n",
    "\t\tif(lst[2] > 10 or lst[3] > 10):\n",
    "\t\t\treturn \"disqualified\"\n",
    "\t\tif(lst[4] > 15 or lst[5] > 15):\n",
    "\t\t\treturn \"disqualified\"\n",
    "\t\tif(lst[6] > 20 or lst[7] > 20):\n",
    "\t\t\treturn \"disqualified\"\n",
    "\t\treturn \"qualified\"\n",
    "\telse:\n",
    "\t\treturn \"disqualified\""
   ]
  },
  {
   "cell_type": "code",
   "execution_count": 7,
   "id": "8c203ad4-f92e-4104-bfc6-80d39333a935",
   "metadata": {},
   "outputs": [
    {
     "name": "stdout",
     "output_type": "stream",
     "text": [
      "Passed\n",
      "Passed\n",
      "Passed\n",
      "Passed\n",
      "Passed\n",
      "Passed\n",
      "Passed\n",
      "Passed\n",
      "Passed\n",
      "Passed\n"
     ]
    }
   ],
   "source": [
    "Test.assert_equals(interview([5, 5, 10, 10, 15, 15, 20, 20], 120), 'qualified')\n",
    "Test.assert_equals(interview([2, 3, 8, 6, 5, 12, 10, 18], 120), 'qualified')\n",
    "Test.assert_equals(interview([2, 3, 8, 6, 5, 12, 10, 18], 64), 'qualified')\n",
    "Test.assert_equals(interview([5, 5, 10, 10, 25, 15, 20, 20], 120), 'disqualified')\n",
    "Test.assert_equals(interview([5, 5, 10, 10, 15, 15, 20], 120), 'disqualified')\n",
    "Test.assert_equals(interview([5, 5, 10, 10, 15, 15, 20, 20], 130), 'disqualified')\n",
    "Test.assert_equals(interview([5, 5, 10, 10, 15, 20, 50], 160), 'disqualified')\n",
    "Test.assert_equals(interview([5, 5, 10, 10, 15, 15, 40], 120), 'disqualified')\n",
    "Test.assert_equals(interview([10, 10, 15, 15, 20, 20], 150), 'disqualified')\n",
    "Test.assert_equals(interview([5, 5, 10, 20, 15, 15, 20, 20], 140), 'disqualified')"
   ]
  },
  {
   "cell_type": "code",
   "execution_count": null,
   "id": "c9e813f5-4265-49f0-87d9-3d0b23ca10aa",
   "metadata": {},
   "outputs": [],
   "source": [
    "https://edabit.com/challenge/A8gEGRXqMwRWQJvBf"
   ]
  },
  {
   "cell_type": "code",
   "execution_count": 8,
   "id": "06997fb8-2c31-4290-93a2-c2646b97775c",
   "metadata": {},
   "outputs": [],
   "source": [
    "def tic_tac_toe(board):\n",
    "\tfor row in board:\n",
    "\t\tif row[0] == row[1] == row[2] and row[0] != \"E\":\n",
    "\t\t\treturn row[0]\n",
    "\tfor col in range(3):\n",
    "\t\tif board[0][col] == board[1][col] == board[2][col] and board[0][col] != \"E\":\n",
    "\t\t\treturn board[0][col]\n",
    "\tif board[0][0] == board[1][1] == board[2][2] and board[0][0] != \"E\":\n",
    "\t\treturn board[0][0]\n",
    "\tif board[0][2] == board[1][1] == board[2][0] and board[0][2] != \"E\":\n",
    "\t\treturn board[0][2]\n",
    "\treturn \"Draw\"\n",
    "\t\n",
    "\t\t"
   ]
  },
  {
   "cell_type": "code",
   "execution_count": 9,
   "id": "10a1bd7e-e2a7-4448-8d35-63f8d0a095a7",
   "metadata": {},
   "outputs": [
    {
     "name": "stdout",
     "output_type": "stream",
     "text": [
      "Passed\n",
      "Passed\n",
      "Passed\n",
      "Passed\n",
      "Passed\n",
      "Passed\n",
      "Passed\n"
     ]
    }
   ],
   "source": [
    "Test.assert_equals(tic_tac_toe([\n",
    "\t[\"X\", \"O\", \"X\"],\n",
    "\t[\"O\", \"X\", \"O\"],\n",
    "\t[\"O\", \"X\", \"X\"]\n",
    "]), \"X\")\n",
    "\n",
    "Test.assert_equals(tic_tac_toe([\n",
    "\t[\"O\", \"O\", \"O\"],\n",
    "\t[\"O\", \"X\", \"X\"],\n",
    "\t[\"E\", \"X\", \"X\"]\n",
    "]), \"O\")\n",
    "\n",
    "Test.assert_equals(tic_tac_toe([\n",
    "\t[\"X\", \"X\", \"O\"],\n",
    "\t[\"O\", \"O\", \"X\"],\n",
    "\t[\"X\", \"X\", \"O\"]\n",
    "]), \"Draw\")\n",
    "\n",
    "Test.assert_equals(tic_tac_toe([\n",
    "\t[\"X\", \"O\", \"O\"],\n",
    "\t[\"X\", \"O\", \"O\"],\n",
    "\t[\"X\", \"X\", \"X\"]\n",
    "]), \"X\")\n",
    "\n",
    "Test.assert_equals(tic_tac_toe([\n",
    "\t[\"X\", \"X\", \"O\"],\n",
    "\t[\"O\", \"O\", \"X\"],\n",
    "\t[\"X\", \"X\", \"O\"]\n",
    "]), \"Draw\")\n",
    "\n",
    "Test.assert_equals(tic_tac_toe([\n",
    "\t[\"X\", \"O\", \"X\"],\n",
    "\t[\"O\", \"X\", \"O\"],\n",
    "\t[\"E\", \"E\", \"X\"]\n",
    "]), \"X\")\n",
    "\n",
    "Test.assert_equals(tic_tac_toe([\n",
    "\t[\"X\", \"O\", \"E\"],\n",
    "\t[\"X\", \"O\", \"E\"],\n",
    "\t[\"E\", \"O\", \"X\"]\n",
    "]), \"O\")"
   ]
  },
  {
   "cell_type": "code",
   "execution_count": null,
   "id": "39ee9906-1dbd-4868-9b65-e37320414de3",
   "metadata": {},
   "outputs": [],
   "source": [
    "https://edabit.com/challenge/BfSj2nBc33aCQrbSg"
   ]
  },
  {
   "cell_type": "code",
   "execution_count": 10,
   "id": "bb87d710-3e78-40b0-8b6a-2e926748d687",
   "metadata": {},
   "outputs": [],
   "source": [
    "def truncatable(n):\n",
    "\ti=0\n",
    "\tk = n\n",
    "\tright=1\n",
    "\tleft =1\n",
    "\tboth = 0\n",
    "\tif(is_prime(n)==False):\n",
    "\t\treturn False\n",
    "\twhile k!=0:\n",
    "\t\ti+=1\n",
    "\t\tif(k%10==0):\n",
    "\t\t\treturn False\n",
    "\t\tk-=k%10\n",
    "\t\tk /= 10\n",
    "\t\t\n",
    "\tk=n\n",
    "\twhile True:\n",
    "\t\tk=(k-k%10)/10\n",
    "\t\tif(k==0):\n",
    "\t\t\tbreak\n",
    "\t\tif(is_prime(k)==False):\n",
    "\t\t\tright=0\n",
    "\t\t\tbreak\n",
    "\t\t\t\n",
    "\tk=n\n",
    "\ti=i-1\n",
    "\tfor l in range(i):\n",
    "\t\tk=k%pow(10,i)\n",
    "\t\tif(is_prime(k)==False):\n",
    "\t\t\tleft=0\n",
    "\t\t\tbreak\n",
    "\t\ti=i-1\n",
    "\tif(right == left == 1):\n",
    "\t\treturn \"both\"\n",
    "\tif(right == 1):\n",
    "\t\treturn \"right\"\n",
    "\tif(left == 1):\n",
    "\t\treturn \"left\"\n",
    "\telse:\n",
    "\t\treturn False\n",
    "\t\n",
    "\n",
    "def is_prime(n):\n",
    "\tif n <= 1:\n",
    "\t\treturn False\n",
    "\tif n <= 3:\n",
    "\t\treturn True\n",
    "\ti = 2\n",
    "\twhile i * i <= n:\n",
    "\t\tif n % i == 0:\n",
    "\t\t\treturn False\n",
    "\t\ti += 1\n",
    "\treturn True"
   ]
  },
  {
   "cell_type": "code",
   "execution_count": 11,
   "id": "25a9a038-647c-492b-83b0-420fb14c3b33",
   "metadata": {},
   "outputs": [
    {
     "name": "stdout",
     "output_type": "stream",
     "text": [
      "Passed\n",
      "Passed\n",
      "Passed\n",
      "Passed\n",
      "Passed\n",
      "Passed\n",
      "Passed\n",
      "Passed\n",
      "Passed\n",
      "Passed\n",
      "Passed\n",
      "Passed\n",
      "Passed\n"
     ]
    }
   ],
   "source": [
    "Test.assert_equals(truncatable(47), \"left\")\n",
    "Test.assert_equals(truncatable(347), \"left\")\n",
    "Test.assert_equals(truncatable(62383), \"left\")\n",
    "Test.assert_equals(truncatable(79), \"right\")\n",
    "Test.assert_equals(truncatable(7331), \"right\")\n",
    "Test.assert_equals(truncatable(233993), \"right\")\n",
    "Test.assert_equals(truncatable(3797), \"both\")\n",
    "Test.assert_equals(truncatable(739397), \"both\")\n",
    "Test.assert_equals(truncatable(5), \"both\", \"single-digit number treated as both\")\n",
    "Test.assert_equals(truncatable(349), False)\n",
    "Test.assert_equals(truncatable(2317), False, \"the starting number is composite\")\n",
    "Test.assert_equals(truncatable(131), False, \"1 is not a prime\")\n",
    "Test.assert_equals(truncatable(6043), False, \"cannot contain a 0 digit\")"
   ]
  },
  {
   "cell_type": "code",
   "execution_count": null,
   "id": "8f92d889-6f64-4e49-a7ad-fe76d270fd23",
   "metadata": {},
   "outputs": [],
   "source": [
    "https://edabit.com/challenge/cXnkmRdxqJrwdsP4n"
   ]
  },
  {
   "cell_type": "code",
   "execution_count": 12,
   "id": "4f0dfccf-baa9-4d39-b6ef-14db51cd3c78",
   "metadata": {},
   "outputs": [],
   "source": [
    "def dis(price, discount):\n",
    "\treturn round(price * (1 - discount / 100), 2)"
   ]
  },
  {
   "cell_type": "code",
   "execution_count": 13,
   "id": "ce518c31-4481-492c-af0d-bc336b8478c9",
   "metadata": {},
   "outputs": [
    {
     "name": "stdout",
     "output_type": "stream",
     "text": [
      "Passed\n",
      "Passed\n",
      "Passed\n",
      "Passed\n",
      "Passed\n"
     ]
    }
   ],
   "source": [
    "Test.assert_equals(dis(100, 75), 25)\n",
    "Test.assert_equals(dis(211, 50), 105.5)\n",
    "Test.assert_equals(dis(593, 61), 231.27)\n",
    "Test.assert_equals(dis(1693, 80), 338.6)\n",
    "Test.assert_equals(dis(700, 10), 630)"
   ]
  },
  {
   "cell_type": "code",
   "execution_count": null,
   "id": "c3366a73-1520-48e1-b5a7-49ceb47bb99c",
   "metadata": {},
   "outputs": [],
   "source": []
  }
 ],
 "metadata": {
  "kernelspec": {
   "display_name": "Python 3 (ipykernel)",
   "language": "python",
   "name": "python3"
  },
  "language_info": {
   "codemirror_mode": {
    "name": "ipython",
    "version": 3
   },
   "file_extension": ".py",
   "mimetype": "text/x-python",
   "name": "python",
   "nbconvert_exporter": "python",
   "pygments_lexer": "ipython3",
   "version": "3.11.7"
  }
 },
 "nbformat": 4,
 "nbformat_minor": 5
}
